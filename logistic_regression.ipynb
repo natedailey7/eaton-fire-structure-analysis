{
 "cells": [
  {
   "cell_type": "code",
   "execution_count": 5,
   "id": "c98b6941",
   "metadata": {},
   "outputs": [],
   "source": [
    "import pandas as pd\n",
    "import statsmodels.api as sm\n",
    "from sklearn.metrics import classification_report, accuracy_score\n",
    "from sklearn.model_selection import train_test_split\n",
    "from tabulate import tabulate \n",
    "import geopandas as gpd"
   ]
  },
  {
   "cell_type": "markdown",
   "id": "4fe4bad9",
   "metadata": {},
   "source": [
    "Examine why model is performing poorly now "
   ]
  },
  {
   "cell_type": "markdown",
   "id": "20727135",
   "metadata": {},
   "source": [
    "# Logistic Model\n",
    "\n",
    "Note the high precision score of the logistic model, at ~0.90."
   ]
  },
  {
   "cell_type": "code",
   "execution_count": null,
   "id": "82ea4f74",
   "metadata": {},
   "outputs": [],
   "source": [
    "gpkg_path = \"data/structures_ndvi_points_min_and_mean.gpkg\"\n",
    "layer_name = \"points\"\n",
    "\n",
    "gdf = gpd.read_file(gpkg_path, layer=layer_name)"
   ]
  },
  {
   "cell_type": "code",
   "execution_count": 11,
   "id": "15e27ca5",
   "metadata": {},
   "outputs": [
    {
     "name": "stdout",
     "output_type": "stream",
     "text": [
      "\n",
      "=== Model Performance Summary ===\n",
      "+----+---------------------------------------------------------------------------------------------------------+------------+---------------+------------+-----------+---------------+------------+----------+\n",
      "|    | Features                                                                                                |   Accuracy |   Precision_0 |   Recall_0 |      F1_0 |   Precision_1 |   Recall_1 |     F1_1 |\n",
      "|----+---------------------------------------------------------------------------------------------------------+------------+---------------+------------+-----------+---------------+------------+----------|\n",
      "|  0 | burned_proportion_20m                                                                                   |   0.70258  |      0        | 0          | 0         |      0.70258  |   1        | 0.825312 |\n",
      "|  1 | burned_proportion_20m, burned_proportion_50m, burned_proportion_100m                                    |   0.85007  |      0.780876 | 0.689332   | 0.732254  |      0.874704 |   0.918114 | 0.895884 |\n",
      "|  2 | burned_proportion_20m, burned_proportion_50m, burned_proportion_100m, ndvi_min_dist_m, ndvi_mean_dist_m |   0.841536 |      0.774788 | 0.649644   | 0.706718  |      0.863363 |   0.921404 | 0.89144  |\n",
      "|  3 | ndvi_min_dist_m                                                                                         |   0.705759 |      0.470588 | 0.00950119 | 0.0186263 |      0.707163 |   0.995551 | 0.826935 |\n",
      "|  4 | ndvi_mean_dist_m                                                                                        |   0.705061 |      0.448276 | 0.0154394  | 0.0298507 |      0.707687 |   0.992091 | 0.826096 |\n",
      "|  5 | ndvi_min_dist_m, ndvi_mean_dist_m                                                                       |   0.705061 |      0.451613 | 0.0166271  | 0.0320733 |      0.707833 |   0.991597 | 0.826024 |\n",
      "+----+---------------------------------------------------------------------------------------------------------+------------+---------------+------------+-----------+---------------+------------+----------+\n",
      "\n",
      "=== Logistic Regression Coefficients ===\n",
      "+----+------------------------+---------------+--------------+---------------------------------------------------------------------------------------------------------+\n",
      "|    | Feature                |   Coefficient |      p-value | Model                                                                                                   |\n",
      "|----+------------------------+---------------+--------------+---------------------------------------------------------------------------------------------------------|\n",
      "|  0 | const                  |     0.163985  | 7.49909e-07  | burned_proportion_20m                                                                                   |\n",
      "|  1 | burned_proportion_20m  |     2.38156   | 3.50318e-199 | burned_proportion_20m                                                                                   |\n",
      "|  2 | const                  |    -2.62262   | 2.02629e-160 | burned_proportion_20m, burned_proportion_50m, burned_proportion_100m                                    |\n",
      "|  3 | burned_proportion_20m  |     1.22934   | 1.01016e-39  | burned_proportion_20m, burned_proportion_50m, burned_proportion_100m                                    |\n",
      "|  4 | burned_proportion_50m  |     3.60585   | 3.62328e-104 | burned_proportion_20m, burned_proportion_50m, burned_proportion_100m                                    |\n",
      "|  5 | burned_proportion_100m |     1.36397   | 8.17526e-12  | burned_proportion_20m, burned_proportion_50m, burned_proportion_100m                                    |\n",
      "|  6 | const                  |    -2.41969   | 7.87312e-99  | burned_proportion_20m, burned_proportion_50m, burned_proportion_100m, ndvi_min_dist_m, ndvi_mean_dist_m |\n",
      "|  7 | burned_proportion_20m  |     1.32768   | 5.89218e-43  | burned_proportion_20m, burned_proportion_50m, burned_proportion_100m, ndvi_min_dist_m, ndvi_mean_dist_m |\n",
      "|  8 | burned_proportion_50m  |     3.78389   | 1.36284e-104 | burned_proportion_20m, burned_proportion_50m, burned_proportion_100m, ndvi_min_dist_m, ndvi_mean_dist_m |\n",
      "|  9 | burned_proportion_100m |     1.13593   | 5.5646e-08   | burned_proportion_20m, burned_proportion_50m, burned_proportion_100m, ndvi_min_dist_m, ndvi_mean_dist_m |\n",
      "| 10 | ndvi_min_dist_m        |    -0.119049  | 0.0080268    | burned_proportion_20m, burned_proportion_50m, burned_proportion_100m, ndvi_min_dist_m, ndvi_mean_dist_m |\n",
      "| 11 | ndvi_mean_dist_m       |    -0.0272205 | 0.250743     | burned_proportion_20m, burned_proportion_50m, burned_proportion_100m, ndvi_min_dist_m, ndvi_mean_dist_m |\n",
      "| 12 | const                  |     1.03721   | 1.07686e-225 | ndvi_min_dist_m                                                                                         |\n",
      "| 13 | ndvi_min_dist_m        |    -0.179788  | 1.73862e-15  | ndvi_min_dist_m                                                                                         |\n",
      "| 14 | const                  |     1.2751    | 4.89346e-162 | ndvi_mean_dist_m                                                                                        |\n",
      "| 15 | ndvi_mean_dist_m       |    -0.121183  | 3.0765e-23   | ndvi_mean_dist_m                                                                                        |\n",
      "| 16 | const                  |     1.26027   | 7.35159e-146 | ndvi_min_dist_m, ndvi_mean_dist_m                                                                       |\n",
      "| 17 | ndvi_min_dist_m        |    -0.0344163 | 0.287739     | ndvi_min_dist_m, ndvi_mean_dist_m                                                                       |\n",
      "| 18 | ndvi_mean_dist_m       |    -0.108004  | 5.01769e-10  | ndvi_min_dist_m, ndvi_mean_dist_m                                                                       |\n",
      "+----+------------------------+---------------+--------------+---------------------------------------------------------------------------------------------------------+\n"
     ]
    }
   ],
   "source": [
    "def train_logistic_model_with_summary(gdf, features, target='burned'):\n",
    "    data = gdf.dropna(subset=features + [target])\n",
    "    X = data[features]\n",
    "    y = data[target]\n",
    "\n",
    "    X = sm.add_constant(X)\n",
    "    X_train, X_test, y_train, y_test = train_test_split(X, y, random_state=42, test_size=0.3)\n",
    "\n",
    "    model = sm.Logit(y_train, X_train).fit(disp=False)\n",
    "    y_pred = (model.predict(X_test) >= 0.5).astype(int)\n",
    "\n",
    "    report = classification_report(y_test, y_pred, output_dict=True, zero_division=0)\n",
    "    accuracy = accuracy_score(y_test, y_pred)\n",
    "\n",
    "    metrics_row = {\n",
    "        'Features': \", \".join(features),\n",
    "        'Accuracy': accuracy,\n",
    "        'Precision_0': report['0']['precision'],\n",
    "        'Recall_0': report['0']['recall'],\n",
    "        'F1_0': report['0']['f1-score'],\n",
    "        'Precision_1': report['1']['precision'],\n",
    "        'Recall_1': report['1']['recall'],\n",
    "        'F1_1': report['1']['f1-score']\n",
    "    }\n",
    "\n",
    "    coef_df = pd.DataFrame({\n",
    "        'Feature': model.params.index,\n",
    "        'Coefficient': model.params.values,\n",
    "        'p-value': model.pvalues.values,\n",
    "        'Model': \", \".join(features)\n",
    "    })\n",
    "\n",
    "    return metrics_row, coef_df\n",
    "\n",
    "\n",
    "# === Define your feature sets ===\n",
    "feature_sets = [\n",
    "    [\"burned_proportion_20m\"],\n",
    "    [\"burned_proportion_20m\", \"burned_proportion_50m\", \"burned_proportion_100m\"],\n",
    "    [\"burned_proportion_20m\", \"burned_proportion_50m\", \"burned_proportion_100m\", \"ndvi_min_dist_m\", \"ndvi_mean_dist_m\"],\n",
    "    [\"ndvi_min_dist_m\"],\n",
    "    [\"ndvi_mean_dist_m\"],\n",
    "    [\"ndvi_min_dist_m\", \"ndvi_mean_dist_m\"]\n",
    "]\n",
    "\n",
    "# === Run all models ===\n",
    "metrics_list = []\n",
    "coef_list = []\n",
    "\n",
    "for fs in feature_sets:\n",
    "    metrics, coefs = train_logistic_model_with_summary(gdf, fs)\n",
    "    metrics_list.append(metrics)\n",
    "    coef_list.append(coefs)\n",
    "\n",
    "# === Combine and display results ===\n",
    "metrics_df = pd.DataFrame(metrics_list)\n",
    "coef_df = pd.concat(coef_list, ignore_index=True)\n",
    "\n",
    "# Print the tables\n",
    "print(\"\\n=== Model Performance Summary ===\")\n",
    "print(tabulate(metrics_df, headers='keys', tablefmt='psql'))\n",
    "\n",
    "print(\"\\n=== Logistic Regression Coefficients ===\")\n",
    "print(tabulate(coef_df, headers='keys', tablefmt='psql'))\n",
    "\n",
    "# # Optionally save to CSV\n",
    "# metrics_df.to_csv(\"model_performance_summary.csv\", index=False)\n",
    "# coef_df.to_csv(\"logistic_regression_coefficients.csv\", index=False)"
   ]
  }
 ],
 "metadata": {
  "kernelspec": {
   "display_name": "Python 3",
   "language": "python",
   "name": "python3"
  },
  "language_info": {
   "codemirror_mode": {
    "name": "ipython",
    "version": 3
   },
   "file_extension": ".py",
   "mimetype": "text/x-python",
   "name": "python",
   "nbconvert_exporter": "python",
   "pygments_lexer": "ipython3",
   "version": "3.10.0"
  }
 },
 "nbformat": 4,
 "nbformat_minor": 5
}
