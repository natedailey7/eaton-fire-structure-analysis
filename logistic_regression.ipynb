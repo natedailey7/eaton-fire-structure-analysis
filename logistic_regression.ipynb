{
 "cells": [
  {
   "cell_type": "code",
   "execution_count": 5,
   "id": "c98b6941",
   "metadata": {},
   "outputs": [],
   "source": [
    "import geopandas as gpd\n",
    "from sklearn.model_selection import train_test_split\n",
    "from sklearn.metrics import classification_report\n",
    "import statsmodels.api as sm\n",
    "import pandas as pd"
   ]
  },
  {
   "cell_type": "markdown",
   "id": "4fe4bad9",
   "metadata": {},
   "source": [
    "Examine why model is performing poorly now "
   ]
  },
  {
   "cell_type": "markdown",
   "id": "20727135",
   "metadata": {},
   "source": [
    "# Logistic Model\n",
    "\n",
    "Note the high precision score of the logistic model, at ~0.90."
   ]
  },
  {
   "cell_type": "code",
   "execution_count": 12,
   "id": "82ea4f74",
   "metadata": {},
   "outputs": [],
   "source": [
    "gpkg_path = \"D:/terrain_generation_project/NAIP_processed/structures_ndvi_points.gpkg\"\n",
    "layer_name = \"points\"\n",
    "\n",
    "gdf = gpd.read_file(gpkg_path, layer=layer_name)"
   ]
  },
  {
   "cell_type": "code",
   "execution_count": 13,
   "id": "35e243d5",
   "metadata": {},
   "outputs": [],
   "source": [
    "def train_logistic_model_with_pvalues(gdf, features, target='burned'):\n",
    "    # Drop rows with missing values in features or target\n",
    "    data = gdf.dropna(subset=features + [target])\n",
    "\n",
    "    X = data[features]\n",
    "    y = data[target]\n",
    "\n",
    "    # Add constant for intercept\n",
    "    X = sm.add_constant(X)\n",
    "\n",
    "    # Split the data\n",
    "    X_train, X_test, y_train, y_test = train_test_split(X, y, random_state=42, test_size=0.3)\n",
    "\n",
    "    # Fit model using statsmodels for p-values\n",
    "    model = sm.Logit(y_train, X_train).fit(disp=False)\n",
    "\n",
    "    # Predict on test set\n",
    "    y_pred = (model.predict(X_test) >= 0.5).astype(int)\n",
    "\n",
    "    # Print results\n",
    "    print(f\"\\n=== Logistic Regression Report: {features} ===\")\n",
    "    print(classification_report(y_test, y_pred))\n",
    "\n",
    "    print(\"\\n--- Coefficients and p-values ---\")\n",
    "    summary = pd.DataFrame({\n",
    "        \"Coefficient\": model.params,\n",
    "        \"p-value\": model.pvalues\n",
    "    })\n",
    "    print(summary)\n",
    "\n",
    "    return model\n",
    "\n",
    "# === Define feature sets for four models ===\n",
    "feature_sets = [\n",
    "    [\"burned_proportion_20m\"],\n",
    "    [\"burned_proportion_20m\", \"burned_proportion_50m\", \"burned_proportion_100m\"],\n",
    "    [\"burned_proportion_20m\", \"burned_proportion_50m\", \"burned_proportion_100m\", \"ndvi_dist_m\"],\n",
    "    [\"ndvi_dist_m\"]\n",
    "]"
   ]
  },
  {
   "cell_type": "code",
   "execution_count": 14,
   "id": "f81fc4bf",
   "metadata": {},
   "outputs": [
    {
     "name": "stdout",
     "output_type": "stream",
     "text": [
      "\n",
      "=== Logistic Regression Report: ['burned_proportion_20m'] ===\n",
      "              precision    recall  f1-score   support\n",
      "\n",
      "           0       0.00      0.00      0.00       853\n",
      "           1       0.70      1.00      0.83      2015\n",
      "\n",
      "    accuracy                           0.70      2868\n",
      "   macro avg       0.35      0.50      0.41      2868\n",
      "weighted avg       0.49      0.70      0.58      2868\n",
      "\n",
      "\n",
      "--- Coefficients and p-values ---\n",
      "                       Coefficient        p-value\n",
      "const                     0.163985   7.499087e-07\n",
      "burned_proportion_20m     2.381560  3.503176e-199\n",
      "\n",
      "=== Logistic Regression Report: ['burned_proportion_20m', 'burned_proportion_50m', 'burned_proportion_100m'] ===\n",
      "              precision    recall  f1-score   support\n",
      "\n",
      "           0       0.78      0.69      0.73       853\n",
      "           1       0.87      0.92      0.90      2015\n",
      "\n",
      "    accuracy                           0.85      2868\n",
      "   macro avg       0.83      0.80      0.81      2868\n",
      "weighted avg       0.85      0.85      0.85      2868\n",
      "\n",
      "\n",
      "--- Coefficients and p-values ---\n",
      "                        Coefficient        p-value\n",
      "const                     -2.622625  2.026289e-160\n",
      "burned_proportion_20m      1.229341   1.010156e-39\n",
      "burned_proportion_50m      3.605854  3.623280e-104\n",
      "burned_proportion_100m     1.363973   8.175255e-12\n",
      "\n",
      "=== Logistic Regression Report: ['burned_proportion_20m', 'burned_proportion_50m', 'burned_proportion_100m', 'ndvi_dist_m'] ===\n",
      "              precision    recall  f1-score   support\n",
      "\n",
      "           0       0.77      0.64      0.70       842\n",
      "           1       0.86      0.92      0.89      2023\n",
      "\n",
      "    accuracy                           0.84      2865\n",
      "   macro avg       0.82      0.78      0.80      2865\n",
      "weighted avg       0.84      0.84      0.84      2865\n",
      "\n",
      "\n",
      "--- Coefficients and p-values ---\n",
      "                        Coefficient        p-value\n",
      "const                     -2.483026  1.066766e-133\n",
      "burned_proportion_20m      1.329625   4.315527e-43\n",
      "burned_proportion_50m      3.783756  1.225289e-104\n",
      "burned_proportion_100m     1.145632   4.087688e-08\n",
      "ndvi_dist_m               -0.154988   1.476382e-06\n",
      "\n",
      "=== Logistic Regression Report: ['ndvi_dist_m'] ===\n",
      "              precision    recall  f1-score   support\n",
      "\n",
      "           0       0.47      0.01      0.02       842\n",
      "           1       0.71      1.00      0.83      2023\n",
      "\n",
      "    accuracy                           0.71      2865\n",
      "   macro avg       0.59      0.50      0.42      2865\n",
      "weighted avg       0.64      0.71      0.59      2865\n",
      "\n",
      "\n",
      "--- Coefficients and p-values ---\n",
      "             Coefficient        p-value\n",
      "const           1.037215  1.076860e-225\n",
      "ndvi_dist_m    -0.179788   1.738624e-15\n"
     ]
    },
    {
     "name": "stderr",
     "output_type": "stream",
     "text": [
      "c:\\Users\\nated\\AppData\\Local\\Programs\\Python\\Python310\\lib\\site-packages\\sklearn\\metrics\\_classification.py:1531: UndefinedMetricWarning: Precision is ill-defined and being set to 0.0 in labels with no predicted samples. Use `zero_division` parameter to control this behavior.\n",
      "  _warn_prf(average, modifier, f\"{metric.capitalize()} is\", len(result))\n",
      "c:\\Users\\nated\\AppData\\Local\\Programs\\Python\\Python310\\lib\\site-packages\\sklearn\\metrics\\_classification.py:1531: UndefinedMetricWarning: Precision is ill-defined and being set to 0.0 in labels with no predicted samples. Use `zero_division` parameter to control this behavior.\n",
      "  _warn_prf(average, modifier, f\"{metric.capitalize()} is\", len(result))\n",
      "c:\\Users\\nated\\AppData\\Local\\Programs\\Python\\Python310\\lib\\site-packages\\sklearn\\metrics\\_classification.py:1531: UndefinedMetricWarning: Precision is ill-defined and being set to 0.0 in labels with no predicted samples. Use `zero_division` parameter to control this behavior.\n",
      "  _warn_prf(average, modifier, f\"{metric.capitalize()} is\", len(result))\n"
     ]
    }
   ],
   "source": [
    "# Run all models\n",
    "models = {}\n",
    "for i, features in enumerate(feature_sets, start=1):\n",
    "    model_name = f\"model_{i}\"\n",
    "    models[model_name] = train_logistic_model_with_pvalues(gdf, features)"
   ]
  }
 ],
 "metadata": {
  "kernelspec": {
   "display_name": "Python 3",
   "language": "python",
   "name": "python3"
  },
  "language_info": {
   "codemirror_mode": {
    "name": "ipython",
    "version": 3
   },
   "file_extension": ".py",
   "mimetype": "text/x-python",
   "name": "python",
   "nbconvert_exporter": "python",
   "pygments_lexer": "ipython3",
   "version": "3.10.0"
  }
 },
 "nbformat": 4,
 "nbformat_minor": 5
}
