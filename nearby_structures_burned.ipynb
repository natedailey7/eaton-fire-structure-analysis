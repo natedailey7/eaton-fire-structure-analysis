{
 "cells": [
  {
   "cell_type": "markdown",
   "id": "24c485e7",
   "metadata": {},
   "source": [
    "# New concept\n",
    "\n",
    "1. Append fields to the structures geopackage that describe how many structures burned at different radius distances. Then implement a regression model that determines wheether a house burned based on the number of nearby structures. And test for statistical significance. \n",
    "\n",
    "2. Network Graph Model\n",
    "\n",
    "    Create a graph where:\n",
    "\n",
    "        Each node = a structure.\n",
    "\n",
    "        Edges = structures within X meters of each other.\n",
    "\n",
    "    Assign \"burned\" or \"not burned\" to each node.\n",
    "\n",
    "    Analyze:\n",
    "\n",
    "        How burning \"propagated\" through the graph.\n",
    "\n",
    "        How graph centrality, degree (number of neighbors), clustering coefficient relate to burn probability.\n",
    "\n",
    "✅ Super cool for visual people — you can even animate it."
   ]
  },
  {
   "cell_type": "code",
   "execution_count": 1,
   "id": "5d7a8b61",
   "metadata": {},
   "outputs": [],
   "source": [
    "import geopandas as gpd\n",
    "import numpy as np\n",
    "from sklearn.neighbors import BallTree\n",
    "from sklearn.linear_model import LogisticRegression\n",
    "from sklearn.model_selection import train_test_split\n",
    "from sklearn.metrics import classification_report"
   ]
  },
  {
   "cell_type": "code",
   "execution_count": 14,
   "id": "aff8489f",
   "metadata": {},
   "outputs": [],
   "source": [
    "def preprocess_structures(gpkg_path, layer_name):\n",
    "    # Load the structures layer\n",
    "    gdf = gpd.read_file(gpkg_path, layer=layer_name)\n",
    "\n",
    "    gdf.set_crs(epsg=3857, inplace=True)\n",
    "\n",
    "    # Reproject to meters if needed\n",
    "    if not gdf.crs.is_projected:\n",
    "        raise ValueError(\"CRS must be projected (meters). Please reproject your data first.\")\n",
    "\n",
    "    # Create a binary \"burned\" column: 1 = Destroyed, 0 = Otherwise\n",
    "    gdf['burned'] = gdf['DAMAGE'].apply(lambda x: 1 if str(x).lower() == 'Destroyed (>50%)' else 0)\n",
    "\n",
    "    return gdf\n",
    "\n",
    "def calculate_neighbor_stats(gdf, radii_meters=[20, 50, 100]):\n",
    "    coords = np.array(list(zip(gdf.geometry.x, gdf.geometry.y)))\n",
    "    tree = BallTree(coords, metric='euclidean')\n",
    "\n",
    "    for radius in radii_meters:\n",
    "        indices = tree.query_radius(coords, r=radius)\n",
    "        \n",
    "        total_neighbors = []\n",
    "        burned_neighbors = []\n",
    "        burned_proportion = []\n",
    "\n",
    "        burned_array = gdf['burned'].to_numpy()\n",
    "\n",
    "        for i, neighbors in enumerate(indices):\n",
    "            neighbors = neighbors[neighbors != i]  # exclude self\n",
    "            total = len(neighbors)\n",
    "            burned_count = burned_array[neighbors].sum() if total > 0 else 0\n",
    "\n",
    "            total_neighbors.append(total)\n",
    "            burned_neighbors.append(burned_count)\n",
    "            burned_proportion.append(burned_count / total if total > 0 else 0)\n",
    "\n",
    "        # Save to GeoDataFrame\n",
    "        gdf[f'total_neighbors_{radius}m'] = total_neighbors\n",
    "        gdf[f'burned_neighbors_{radius}m'] = burned_neighbors\n",
    "        gdf[f'burned_proportion_{radius}m'] = burned_proportion\n",
    "\n",
    "    return gdf\n",
    "\n",
    "def train_logistic_model(gdf, features, target='burned'):\n",
    "    # Drop any NaN values if they exist\n",
    "    data = gdf.dropna(subset=features + [target])\n",
    "\n",
    "    X = data[features]\n",
    "    y = data[target]\n",
    "\n",
    "    X_train, X_test, y_train, y_test = train_test_split(X, y, random_state=42, test_size=0.3)\n",
    "\n",
    "    model = LogisticRegression(max_iter=500)\n",
    "    model.fit(X_train, y_train)\n",
    "\n",
    "    y_pred = model.predict(X_test)\n",
    "\n",
    "    print(\"=== Logistic Regression Report ===\")\n",
    "    print(classification_report(y_test, y_pred))\n",
    "\n",
    "    return model"
   ]
  },
  {
   "cell_type": "code",
   "execution_count": 15,
   "id": "5104d65e",
   "metadata": {},
   "outputs": [
    {
     "name": "stdout",
     "output_type": "stream",
     "text": [
      "Saved enriched structures to I:/terrain_generation_project/structures_with_neighbors.gpkg\n"
     ]
    },
    {
     "ename": "ValueError",
     "evalue": "This solver needs samples of at least 2 classes in the data, but the data contains only one class: np.int64(0)",
     "output_type": "error",
     "traceback": [
      "\u001b[1;31m---------------------------------------------------------------------------\u001b[0m",
      "\u001b[1;31mValueError\u001b[0m                                Traceback (most recent call last)",
      "Cell \u001b[1;32mIn[15], line 22\u001b[0m\n\u001b[0;32m     15\u001b[0m \u001b[38;5;66;03m# Step 4: Train a simple logistic regression model\u001b[39;00m\n\u001b[0;32m     16\u001b[0m feature_columns \u001b[38;5;241m=\u001b[39m [\n\u001b[0;32m     17\u001b[0m     \u001b[38;5;124m'\u001b[39m\u001b[38;5;124mburned_proportion_20m\u001b[39m\u001b[38;5;124m'\u001b[39m,\n\u001b[0;32m     18\u001b[0m     \u001b[38;5;124m'\u001b[39m\u001b[38;5;124mburned_proportion_50m\u001b[39m\u001b[38;5;124m'\u001b[39m,\n\u001b[0;32m     19\u001b[0m     \u001b[38;5;124m'\u001b[39m\u001b[38;5;124mburned_proportion_100m\u001b[39m\u001b[38;5;124m'\u001b[39m\n\u001b[0;32m     20\u001b[0m ]\n\u001b[1;32m---> 22\u001b[0m model \u001b[38;5;241m=\u001b[39m \u001b[43mtrain_logistic_model\u001b[49m\u001b[43m(\u001b[49m\u001b[43mgdf\u001b[49m\u001b[43m,\u001b[49m\u001b[43m \u001b[49m\u001b[43mfeatures\u001b[49m\u001b[38;5;241;43m=\u001b[39;49m\u001b[43mfeature_columns\u001b[49m\u001b[43m)\u001b[49m\n",
      "Cell \u001b[1;32mIn[14], line 55\u001b[0m, in \u001b[0;36mtrain_logistic_model\u001b[1;34m(gdf, features, target)\u001b[0m\n\u001b[0;32m     52\u001b[0m X_train, X_test, y_train, y_test \u001b[38;5;241m=\u001b[39m train_test_split(X, y, random_state\u001b[38;5;241m=\u001b[39m\u001b[38;5;241m42\u001b[39m, test_size\u001b[38;5;241m=\u001b[39m\u001b[38;5;241m0.3\u001b[39m)\n\u001b[0;32m     54\u001b[0m model \u001b[38;5;241m=\u001b[39m LogisticRegression(max_iter\u001b[38;5;241m=\u001b[39m\u001b[38;5;241m500\u001b[39m)\n\u001b[1;32m---> 55\u001b[0m \u001b[43mmodel\u001b[49m\u001b[38;5;241;43m.\u001b[39;49m\u001b[43mfit\u001b[49m\u001b[43m(\u001b[49m\u001b[43mX_train\u001b[49m\u001b[43m,\u001b[49m\u001b[43m \u001b[49m\u001b[43my_train\u001b[49m\u001b[43m)\u001b[49m\n\u001b[0;32m     57\u001b[0m y_pred \u001b[38;5;241m=\u001b[39m model\u001b[38;5;241m.\u001b[39mpredict(X_test)\n\u001b[0;32m     59\u001b[0m \u001b[38;5;28mprint\u001b[39m(\u001b[38;5;124m\"\u001b[39m\u001b[38;5;124m=== Logistic Regression Report ===\u001b[39m\u001b[38;5;124m\"\u001b[39m)\n",
      "File \u001b[1;32mc:\\Users\\nated\\AppData\\Local\\Programs\\Python\\Python310\\lib\\site-packages\\sklearn\\base.py:1473\u001b[0m, in \u001b[0;36m_fit_context.<locals>.decorator.<locals>.wrapper\u001b[1;34m(estimator, *args, **kwargs)\u001b[0m\n\u001b[0;32m   1466\u001b[0m     estimator\u001b[38;5;241m.\u001b[39m_validate_params()\n\u001b[0;32m   1468\u001b[0m \u001b[38;5;28;01mwith\u001b[39;00m config_context(\n\u001b[0;32m   1469\u001b[0m     skip_parameter_validation\u001b[38;5;241m=\u001b[39m(\n\u001b[0;32m   1470\u001b[0m         prefer_skip_nested_validation \u001b[38;5;129;01mor\u001b[39;00m global_skip_validation\n\u001b[0;32m   1471\u001b[0m     )\n\u001b[0;32m   1472\u001b[0m ):\n\u001b[1;32m-> 1473\u001b[0m     \u001b[38;5;28;01mreturn\u001b[39;00m fit_method(estimator, \u001b[38;5;241m*\u001b[39margs, \u001b[38;5;241m*\u001b[39m\u001b[38;5;241m*\u001b[39mkwargs)\n",
      "File \u001b[1;32mc:\\Users\\nated\\AppData\\Local\\Programs\\Python\\Python310\\lib\\site-packages\\sklearn\\linear_model\\_logistic.py:1301\u001b[0m, in \u001b[0;36mLogisticRegression.fit\u001b[1;34m(self, X, y, sample_weight)\u001b[0m\n\u001b[0;32m   1299\u001b[0m classes_ \u001b[38;5;241m=\u001b[39m \u001b[38;5;28mself\u001b[39m\u001b[38;5;241m.\u001b[39mclasses_\n\u001b[0;32m   1300\u001b[0m \u001b[38;5;28;01mif\u001b[39;00m n_classes \u001b[38;5;241m<\u001b[39m \u001b[38;5;241m2\u001b[39m:\n\u001b[1;32m-> 1301\u001b[0m     \u001b[38;5;28;01mraise\u001b[39;00m \u001b[38;5;167;01mValueError\u001b[39;00m(\n\u001b[0;32m   1302\u001b[0m         \u001b[38;5;124m\"\u001b[39m\u001b[38;5;124mThis solver needs samples of at least 2 classes\u001b[39m\u001b[38;5;124m\"\u001b[39m\n\u001b[0;32m   1303\u001b[0m         \u001b[38;5;124m\"\u001b[39m\u001b[38;5;124m in the data, but the data contains only one\u001b[39m\u001b[38;5;124m\"\u001b[39m\n\u001b[0;32m   1304\u001b[0m         \u001b[38;5;124m\"\u001b[39m\u001b[38;5;124m class: \u001b[39m\u001b[38;5;132;01m%r\u001b[39;00m\u001b[38;5;124m\"\u001b[39m \u001b[38;5;241m%\u001b[39m classes_[\u001b[38;5;241m0\u001b[39m]\n\u001b[0;32m   1305\u001b[0m     )\n\u001b[0;32m   1307\u001b[0m \u001b[38;5;28;01mif\u001b[39;00m \u001b[38;5;28mlen\u001b[39m(\u001b[38;5;28mself\u001b[39m\u001b[38;5;241m.\u001b[39mclasses_) \u001b[38;5;241m==\u001b[39m \u001b[38;5;241m2\u001b[39m:\n\u001b[0;32m   1308\u001b[0m     n_classes \u001b[38;5;241m=\u001b[39m \u001b[38;5;241m1\u001b[39m\n",
      "\u001b[1;31mValueError\u001b[0m: This solver needs samples of at least 2 classes in the data, but the data contains only one class: np.int64(0)"
     ]
    }
   ],
   "source": [
    "gpkg_file = \"I:/terrain_generation_project/structures.gpkg\"\n",
    "layer_name = \"postfire\"\n",
    "output_file = \"I:/terrain_generation_project/structures_with_neighbors.gpkg\"\n",
    "\n",
    "# Step 1: Load and preprocess\n",
    "gdf = preprocess_structures(gpkg_file, layer_name)\n",
    "\n",
    "# Step 2: Calculate neighbor stats\n",
    "gdf = calculate_neighbor_stats(gdf, radii_meters=[20, 50, 100])\n",
    "\n",
    "# Step 3: Save enriched data\n",
    "gdf.to_file(output_file, driver=\"GPKG\")\n",
    "print(f\"Saved enriched structures to {output_file}\")\n",
    "\n",
    "# Step 4: Train a simple logistic regression model\n",
    "feature_columns = [\n",
    "    'burned_proportion_20m',\n",
    "    'burned_proportion_50m',\n",
    "    'burned_proportion_100m'\n",
    "]\n",
    "\n",
    "model = train_logistic_model(gdf, features=feature_columns)"
   ]
  }
 ],
 "metadata": {
  "kernelspec": {
   "display_name": "Python 3",
   "language": "python",
   "name": "python3"
  },
  "language_info": {
   "codemirror_mode": {
    "name": "ipython",
    "version": 3
   },
   "file_extension": ".py",
   "mimetype": "text/x-python",
   "name": "python",
   "nbconvert_exporter": "python",
   "pygments_lexer": "ipython3",
   "version": "3.10.0"
  }
 },
 "nbformat": 4,
 "nbformat_minor": 5
}
