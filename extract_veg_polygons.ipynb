{
 "cells": [
  {
   "cell_type": "code",
   "execution_count": 2,
   "id": "42bf73eb",
   "metadata": {},
   "outputs": [],
   "source": [
    "from tqdm import tqdm\n",
    "import rasterio\n",
    "import numpy as np\n",
    "import geopandas as gpd\n",
    "from rasterio.features import shapes\n",
    "from shapely.geometry import shape, Polygon"
   ]
  },
  {
   "cell_type": "markdown",
   "id": "a80034fd",
   "metadata": {},
   "source": [
    "Resample tif to be 3m perhaps?"
   ]
  },
  {
   "cell_type": "code",
   "execution_count": 3,
   "id": "ce75b603",
   "metadata": {},
   "outputs": [],
   "source": [
    "# === Paths ===\n",
    "input_ndvi_tif = \"D:/terrain_generation_project/NAIP_processed/naip_ndvi_1_8.tif\"\n",
    "output_gpkg = \"D:/terrain_generation_project/NAIP_processed/vegetation_polygons.gpkg\"\n",
    "layer_name = \"vegetation\""
   ]
  },
  {
   "cell_type": "code",
   "execution_count": null,
   "id": "771f47fb",
   "metadata": {},
   "outputs": [
    {
     "name": "stderr",
     "output_type": "stream",
     "text": [
      "Extracting vegetation polygons:   0%|          | 0/143631423 [00:00<?, ?it/s]"
     ]
    }
   ],
   "source": [
    "# === Parameters ===\n",
    "ndvi_min = 0.3\n",
    "ndvi_max = 0.8\n",
    "min_area_m2 = 1.0\n",
    "simplify_tolerance = 0.5  # meters\n",
    "\n",
    "# === Load NDVI ===\n",
    "with rasterio.open(input_ndvi_tif) as src:\n",
    "    ndvi = src.read(1)  # Single band\n",
    "    transform = src.transform\n",
    "    crs = src.crs\n",
    "\n",
    "# === Create mask for NDVI between thresholds ===\n",
    "mask = (ndvi >= ndvi_min) & (ndvi <= ndvi_max)\n",
    "\n",
    "# === Estimate progress length ===\n",
    "estimated_total = np.count_nonzero(mask)\n",
    "\n",
    "# === Stream shapes with cleanup ===\n",
    "polygons = []\n",
    "with tqdm(total=estimated_total, desc=\"Extracting vegetation polygons\") as pbar:\n",
    "    for geom, val in shapes(ndvi.astype(np.float32), mask=mask, transform=transform):\n",
    "        if ndvi_min <= val <= ndvi_max:\n",
    "            poly = shape(geom)\n",
    "\n",
    "            # Skip very small polygons\n",
    "            if poly.area < min_area_m2:\n",
    "                pbar.update(1)\n",
    "                continue\n",
    "\n",
    "            # Remove tiny holes\n",
    "            if isinstance(poly, Polygon):\n",
    "                new_interiors = [\n",
    "                    ring for ring in poly.interiors\n",
    "                    if Polygon(ring).area >= min_area_m2\n",
    "                ]\n",
    "                poly = Polygon(poly.exterior, new_interiors)\n",
    "\n",
    "            # Simplify geometry\n",
    "            simplified_poly = poly.simplify(simplify_tolerance, preserve_topology=True)\n",
    "\n",
    "            polygons.append(simplified_poly)\n",
    "        pbar.update(1)\n",
    "\n",
    "# === Create GeoDataFrame and save ===\n",
    "gdf = gpd.GeoDataFrame(geometry=polygons, crs=crs)\n",
    "gdf.to_file(output_gpkg, layer=layer_name, driver=\"GPKG\")\n",
    "\n",
    "print(f\"Saved {len(gdf)} simplified vegetation polygons to '{output_gpkg}' in layer '{layer_name}'.\")"
   ]
  }
 ],
 "metadata": {
  "kernelspec": {
   "display_name": "Python 3",
   "language": "python",
   "name": "python3"
  },
  "language_info": {
   "codemirror_mode": {
    "name": "ipython",
    "version": 3
   },
   "file_extension": ".py",
   "mimetype": "text/x-python",
   "name": "python",
   "nbconvert_exporter": "python",
   "pygments_lexer": "ipython3",
   "version": "3.10.6"
  }
 },
 "nbformat": 4,
 "nbformat_minor": 5
}
