{
 "cells": [
  {
   "cell_type": "code",
   "execution_count": null,
   "id": "42bf73eb",
   "metadata": {},
   "outputs": [],
   "source": [
    "import numpy as np\n",
    "import geopandas as gpd\n",
    "import rasterio\n",
    "from rasterio.transform import rowcol\n",
    "from scipy.ndimage import distance_transform_edt\n",
    "from tqdm import tqdm"
   ]
  },
  {
   "cell_type": "markdown",
   "id": "a80034fd",
   "metadata": {},
   "source": [
    "Resample tif to be 3m perhaps?"
   ]
  },
  {
   "cell_type": "code",
   "execution_count": 3,
   "id": "ce75b603",
   "metadata": {},
   "outputs": [],
   "source": [
    "# === Paths ===\n",
    "input_ndvi_tif = \"D:/terrain_generation_project/NAIP_processed/naip_ndvi_1_8.tif\"\n",
    "output_gpkg = \"D:/terrain_generation_project/NAIP_processed/vegetation_polygons.gpkg\"\n",
    "layer_name = \"vegetation\""
   ]
  },
  {
   "cell_type": "code",
   "execution_count": null,
   "id": "771f47fb",
   "metadata": {},
   "outputs": [
    {
     "name": "stderr",
     "output_type": "stream",
     "text": [
      "Extracting vegetation polygons:   0%|          | 0/143631423 [00:00<?, ?it/s]"
     ]
    }
   ],
   "source": [
    "# === Parameters ===\n",
    "input_ndvi_tif = \"D:/terrain_generation_project/NAIP_processed/naip_ndvi_1_8.tif\"\n",
    "structure_gpkg = \"D:/terrain_generation_project/structures_with_distances.gpkg\"\n",
    "structure_layer = \"postfire\"\n",
    "output_gpkg = \"D:/terrain_generation_project/NAIP_processed/structures_with_distance_ndvi.gpkg\"\n",
    "output_layer = \"structures_with_distance_ndvi\"\n",
    "ndvi_min = 0.3\n",
    "ndvi_max = 0.8\n",
    "\n",
    "# === Load NDVI and create vegetation mask ===\n",
    "print(\"Loading NDVI raster...\")\n",
    "with rasterio.open(input_ndvi_tif) as src:\n",
    "    ndvi = src.read(1)\n",
    "    transform = src.transform\n",
    "    crs = src.crs\n",
    "    nodata = src.nodata\n",
    "\n",
    "    # Make sure to ignore nodata\n",
    "    valid_mask = (ndvi != nodata) if nodata is not None else np.ones_like(ndvi, dtype=bool)\n",
    "\n",
    "    # Create binary vegetation mask\n",
    "    veg_mask = (ndvi >= ndvi_min) & (ndvi <= ndvi_max) & valid_mask\n",
    "\n",
    "    # Invert for distance transform (True = non-veg)\n",
    "    inverse_mask = ~veg_mask\n",
    "\n",
    "    print(\"Computing distance transform...\")\n",
    "    distance_pixels = distance_transform_edt(inverse_mask)\n",
    "\n",
    "    # Convert to meters using pixel size (assumes square pixels)\n",
    "    pixel_size = transform.a\n",
    "    distance_meters = distance_pixels * pixel_size\n",
    "\n",
    "# === Load structure points ===\n",
    "print(\"Loading structure points...\")\n",
    "structures = gpd.read_file(structure_gpkg, layer=structure_layer).to_crs(crs)\n",
    "\n",
    "# === Get distance to nearest vegetation pixel for each point ===\n",
    "print(\"Calculating distances to vegetation...\")\n",
    "distances = []\n",
    "for point in tqdm(structures.geometry, desc=\"Processing points\"):\n",
    "    try:\n",
    "        row, col = rowcol(transform, point.x, point.y)\n",
    "        dist = distance_meters[row, col]\n",
    "    except IndexError:\n",
    "        dist = np.nan  # Outside raster\n",
    "    distances.append(dist)\n",
    "\n",
    "structures[\"ndvi_dist_m\"] = distances\n",
    "\n",
    "# === Save result ===\n",
    "print(f\"Saving output to {output_gpkg}...\")\n",
    "structures.to_file(output_gpkg, layer=output_layer, driver=\"GPKG\")\n",
    "\n",
    "print(\"Done.\")\n"
   ]
  }
 ],
 "metadata": {
  "kernelspec": {
   "display_name": "Python 3",
   "language": "python",
   "name": "python3"
  },
  "language_info": {
   "codemirror_mode": {
    "name": "ipython",
    "version": 3
   },
   "file_extension": ".py",
   "mimetype": "text/x-python",
   "name": "python",
   "nbconvert_exporter": "python",
   "pygments_lexer": "ipython3",
   "version": "3.10.6"
  }
 },
 "nbformat": 4,
 "nbformat_minor": 5
}
