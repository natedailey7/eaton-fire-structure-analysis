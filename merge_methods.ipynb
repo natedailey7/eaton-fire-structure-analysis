{
 "cells": [
  {
   "cell_type": "code",
   "execution_count": 1,
   "id": "68773e12",
   "metadata": {},
   "outputs": [],
   "source": [
    "import geopandas as gpd\n",
    "import numpy as np"
   ]
  },
  {
   "cell_type": "code",
   "execution_count": 2,
   "id": "1a1cb109",
   "metadata": {},
   "outputs": [],
   "source": [
    "strucsNDVI = gpd.read_file(\"data/structures_ndvi_points_min_and_mean.gpkg\")\n",
    "strucsPOLY = gpd.read_file(\"outputs/structures_points_with_neighbors_POLY-METHOD.gpkg\")"
   ]
  },
  {
   "cell_type": "code",
   "execution_count": 3,
   "id": "7acf9fcb",
   "metadata": {},
   "outputs": [],
   "source": [
    "# === Drop overlapping columns from NDVI (keep OBJECTID and geometry) ===\n",
    "overlap_cols = set(strucsNDVI.columns) & set(strucsPOLY.columns) - {\"OBJECTID\"}\n",
    "strucsNDVI_trimmed = strucsNDVI.drop(columns=overlap_cols)\n",
    "\n",
    "# === Merge, keeping geometry from strucsPOLY ===\n",
    "merged_df = strucsNDVI_trimmed.merge(strucsPOLY, on=\"OBJECTID\", how=\"inner\")\n",
    "\n",
    "# Convert to GeoDataFrame with geometry from strucsPOLY\n",
    "merged = gpd.GeoDataFrame(merged_df, geometry=strucsPOLY.geometry, crs=strucsPOLY.crs)\n",
    "\n",
    "# === Save to GeoPackage ===\n",
    "import os\n",
    "os.makedirs(\"outputs\", exist_ok=True)\n",
    "merged.to_file(\"outputs/merged_structures.gpkg\", driver=\"GPKG\")"
   ]
  }
 ],
 "metadata": {
  "kernelspec": {
   "display_name": "Python 3",
   "language": "python",
   "name": "python3"
  },
  "language_info": {
   "codemirror_mode": {
    "name": "ipython",
    "version": 3
   },
   "file_extension": ".py",
   "mimetype": "text/x-python",
   "name": "python",
   "nbconvert_exporter": "python",
   "pygments_lexer": "ipython3",
   "version": "3.10.0"
  }
 },
 "nbformat": 4,
 "nbformat_minor": 5
}
