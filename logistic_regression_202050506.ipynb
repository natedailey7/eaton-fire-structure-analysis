{
 "cells": [
  {
   "cell_type": "markdown",
   "id": "92f0e6af",
   "metadata": {},
   "source": [
    "# Logistic Regression"
   ]
  },
  {
   "cell_type": "code",
   "execution_count": 5,
   "id": "456cc77a",
   "metadata": {},
   "outputs": [],
   "source": [
    "import pandas as pd\n",
    "import statsmodels.api as sm\n",
    "from sklearn.metrics import classification_report, accuracy_score\n",
    "from sklearn.model_selection import train_test_split\n",
    "from tabulate import tabulate \n",
    "import geopandas as gpd\n",
    "from imblearn.over_sampling import SMOTE"
   ]
  },
  {
   "cell_type": "code",
   "execution_count": 2,
   "execution_count": 2,
   "id": "82f36d58",
   "metadata": {},
   "outputs": [
    {
     "name": "stderr",
     "output_type": "stream",
     "text": [
      "c:\\Users\\nated\\AppData\\Local\\Programs\\Python\\Python310\\lib\\site-packages\\geopandas\\io\\file.py:383: FutureWarning: errors='ignore' is deprecated and will raise in a future version. Use to_datetime without passing `errors` and catch exceptions explicitly instead\n",
      "  as_dt = pd.to_datetime(df[k], errors=\"ignore\")\n",
      "c:\\Users\\nated\\AppData\\Local\\Programs\\Python\\Python310\\lib\\site-packages\\geopandas\\io\\file.py:383: FutureWarning: errors='ignore' is deprecated and will raise in a future version. Use to_datetime without passing `errors` and catch exceptions explicitly instead\n",
      "  as_dt = pd.to_datetime(df[k], errors=\"ignore\")\n"
     ]
    }
   ],
   "source": [
    "gpkg_path = \"outputs/merged_structures.gpkg\"\n",
    "layer_name = \"merged_structures\"\n",
    "\n",
    "gdf = gpd.read_file(gpkg_path, layer=layer_name)"
   ]
  },
  {
   "cell_type": "markdown",
   "id": "0a4f63d3",
   "metadata": {},
   "source": [
    "# SMOTE\n",
    "\n",
    "Since there are many more burned than unburned buildings in the burn footprint, we have a class imbalance. We decided to use SMOTE to alleviate this issue. \n",
    "\n",
    "SMOTE only applies to the training set so the model sees a more balanced dataset, but we're still evaluating on the true distribution in the test set. It helps the logistic regression model actually learn features associated with the minority class instead of ignoring it."
   ]
  },
  {
   "cell_type": "code",
   "execution_count": null,
   "execution_count": null,
   "id": "09f1f9ca",
   "metadata": {},
   "outputs": [
    {
     "name": "stdout",
     "output_type": "stream",
     "text": [
      "\n",
      "=== Model Performance Summary ===\n",
      "+----+------------------------------------------------------------------------------------------------------------------------------------+------------+---------------+------------+----------+---------------+------------+----------+\n",
      "|    | Features                                                                                                                           |   Accuracy |   Precision_0 |   Recall_0 |     F1_0 |   Precision_1 |   Recall_1 |     F1_1 |\n",
      "|----+------------------------------------------------------------------------------------------------------------------------------------+------------+---------------+------------+----------+---------------+------------+----------|\n",
      "|  0 | burned_proportion_10m                                                                                                              |   0.528243 |      0.29097  |   0.407972 | 0.339678 |      0.697967 |   0.579156 | 0.633035 |\n",
      "|  1 | burned_proportion_10m, burned_proportion_20m                                                                                       |   0.558926 |      0.304924 |   0.377491 | 0.337349 |      0.706954 |   0.635732 | 0.669454 |\n",
      "|  2 | burned_proportion_10m, burned_proportion_20m, burned_proportion_50m, burned_proportion_100m                                        |   0.531381 |      0.297275 |   0.42204  | 0.348837 |      0.702474 |   0.577667 | 0.633987 |\n",
      "|  3 | burned_proportion_10m, burned_proportion_20m, burned_proportion_50m, burned_proportion_100m, ndvi_min_dist_m_x, ndvi_mean_dist_m_x |   0.597906 |      0.354869 |   0.450119 | 0.396859 |      0.742348 |   0.659417 | 0.698429 |\n",
      "|  4 | ndvi_min_dist_m_x                                                                                                                  |   0.609773 |      0.344595 |   0.36342  | 0.353757 |      0.728882 |   0.712308 | 0.7205   |\n",
      "|  5 | ndvi_mean_dist_m_x                                                                                                                 |   0.604188 |      0.357143 |   0.433492 | 0.391631 |      0.741183 |   0.675235 | 0.706674 |\n",
      "|  6 | ndvi_min_dist_m_x, ndvi_mean_dist_m_x                                                                                              |   0.608377 |      0.361933 |   0.435867 | 0.395474 |      0.743382 |   0.680178 | 0.710377 |\n",
      "+----+------------------------------------------------------------------------------------------------------------------------------------+------------+---------------+------------+----------+---------------+------------+----------+\n",
      "\n",
      "=== Logistic Regression Coefficients ===\n",
      "+----+------------------------+---------------+-------------+------------------------------------------------------------------------------------------------------------------------------------+\n",
      "|    | Feature                |   Coefficient |     p-value | Model                                                                                                                              |\n",
      "|----+------------------------+---------------+-------------+------------------------------------------------------------------------------------------------------------------------------------|\n",
      "|  0 | const                  |   -0.00491481 | 0.886591    | burned_proportion_10m                                                                                                              |\n",
      "|  1 | burned_proportion_10m  |    0.0079808  | 0.859236    | burned_proportion_10m                                                                                                              |\n",
      "|  2 | const                  |   -0.025916   | 0.526476    | burned_proportion_10m, burned_proportion_20m                                                                                       |\n",
      "|  3 | burned_proportion_10m  |   -0.0444827  | 0.533571    | burned_proportion_10m, burned_proportion_20m                                                                                       |\n",
      "|  4 | burned_proportion_20m  |    0.0771461  | 0.343116    | burned_proportion_10m, burned_proportion_20m                                                                                       |\n",
      "|  5 | const                  |   -0.0465327  | 0.455178    | burned_proportion_10m, burned_proportion_20m, burned_proportion_50m, burned_proportion_100m                                        |\n",
      "|  6 | burned_proportion_10m  |   -0.0444422  | 0.534619    | burned_proportion_10m, burned_proportion_20m, burned_proportion_50m, burned_proportion_100m                                        |\n",
      "|  7 | burned_proportion_20m  |   -0.00704776 | 0.946071    | burned_proportion_10m, burned_proportion_20m, burned_proportion_50m, burned_proportion_100m                                        |\n",
      "|  8 | burned_proportion_50m  |    0.196108   | 0.23017     | burned_proportion_10m, burned_proportion_20m, burned_proportion_50m, burned_proportion_100m                                        |\n",
      "|  9 | burned_proportion_100m |   -0.0841419  | 0.610036    | burned_proportion_10m, burned_proportion_20m, burned_proportion_50m, burned_proportion_100m                                        |\n",
      "| 10 | const                  |    0.392748   | 4.2655e-08  | burned_proportion_10m, burned_proportion_20m, burned_proportion_50m, burned_proportion_100m, ndvi_min_dist_m_x, ndvi_mean_dist_m_x |\n",
      "| 11 | burned_proportion_10m  |   -0.25919    | 0.000653702 | burned_proportion_10m, burned_proportion_20m, burned_proportion_50m, burned_proportion_100m, ndvi_min_dist_m_x, ndvi_mean_dist_m_x |\n",
      "| 12 | burned_proportion_20m  |    0.223327   | 0.0423114   | burned_proportion_10m, burned_proportion_20m, burned_proportion_50m, burned_proportion_100m, ndvi_min_dist_m_x, ndvi_mean_dist_m_x |\n",
      "| 13 | burned_proportion_50m  |    0.0671094  | 0.693918    | burned_proportion_10m, burned_proportion_20m, burned_proportion_50m, burned_proportion_100m, ndvi_min_dist_m_x, ndvi_mean_dist_m_x |\n",
      "| 14 | burned_proportion_100m |   -0.0538936  | 0.75281     | burned_proportion_10m, burned_proportion_20m, burned_proportion_50m, burned_proportion_100m, ndvi_min_dist_m_x, ndvi_mean_dist_m_x |\n",
      "| 15 | ndvi_min_dist_m_x      |   -0.0331298  | 0.218183    | burned_proportion_10m, burned_proportion_20m, burned_proportion_50m, burned_proportion_100m, ndvi_min_dist_m_x, ndvi_mean_dist_m_x |\n",
      "| 16 | ndvi_mean_dist_m_x     |   -0.120156   | 5.33818e-17 | burned_proportion_10m, burned_proportion_20m, burned_proportion_50m, burned_proportion_100m, ndvi_min_dist_m_x, ndvi_mean_dist_m_x |\n",
      "| 17 | const                  |    0.145428   | 5.95035e-09 | ndvi_min_dist_m_x                                                                                                                  |\n",
      "| 18 | ndvi_min_dist_m_x      |   -0.193128   | 2.02984e-23 | ndvi_min_dist_m_x                                                                                                                  |\n",
      "| 19 | const                  |    0.407363   | 4.87705e-27 | ndvi_mean_dist_m_x                                                                                                                 |\n",
      "| 20 | ndvi_mean_dist_m_x     |   -0.132299   | 1.16492e-36 | ndvi_mean_dist_m_x                                                                                                                 |\n",
      "| 21 | const                  |    0.393181   | 1.05324e-23 | ndvi_min_dist_m_x, ndvi_mean_dist_m_x                                                                                              |\n",
      "| 22 | ndvi_min_dist_m_x      |   -0.0373827  | 0.162706    | ndvi_min_dist_m_x, ndvi_mean_dist_m_x                                                                                              |\n",
      "| 23 | ndvi_mean_dist_m_x     |   -0.118644   | 9.67196e-17 | ndvi_min_dist_m_x, ndvi_mean_dist_m_x                                                                                              |\n",
      "+----+------------------------+---------------+-------------+------------------------------------------------------------------------------------------------------------------------------------+\n"
     ]
    }
   ],
   "source": [
    "def train_logistic_model_with_summary(gdf, features, target='burned'):\n",
    "    data = gdf.dropna(subset=features + [target])\n",
    "    X = data[features]\n",
    "    y = data[target]\n",
    "\n",
    "    X = sm.add_constant(X)\n",
    "    X_train, X_test, y_train, y_test = train_test_split(X, y, random_state=42, test_size=0.3)\n",
    "\n",
    "    # === Apply SMOTE only to training data ===\n",
    "    smote = SMOTE(random_state=42)\n",
    "    X_train_res, y_train_res = smote.fit_resample(X_train, y_train)\n",
    "\n",
    "    # === Train logistic regression ===\n",
    "    model = sm.Logit(y_train_res, X_train_res).fit(disp=False)\n",
    "    y_pred = (model.predict(X_test) >= 0.5).astype(int)\n",
    "\n",
    "    report = classification_report(y_test, y_pred, output_dict=True, zero_division=0)\n",
    "    accuracy = accuracy_score(y_test, y_pred)\n",
    "\n",
    "    metrics_row = {\n",
    "        'Features': \", \".join(features),\n",
    "        'Accuracy': accuracy,\n",
    "        'Precision_0': report['0']['precision'],\n",
    "        'Recall_0': report['0']['recall'],\n",
    "        'F1_0': report['0']['f1-score'],\n",
    "        'Precision_1': report['1']['precision'],\n",
    "        'Recall_1': report['1']['recall'],\n",
    "        'F1_1': report['1']['f1-score']\n",
    "    }\n",
    "\n",
    "    coef_df = pd.DataFrame({\n",
    "        'Feature': model.params.index,\n",
    "        'Coefficient': model.params.values,\n",
    "        'p-value': model.pvalues.values,\n",
    "        'Model': \", \".join(features)\n",
    "    })\n",
    "\n",
    "    return metrics_row, coef_df\n",
    "\n",
    "\n",
    "# Define your feature sets\n",
    "feature_sets = [\n",
    "    [\"burned_proportion_10m\"],\n",
    "    [\"burned_proportion_10m\", \"burned_proportion_20m\"],\n",
    "    [\"burned_proportion_10m\", \"burned_proportion_20m\", \"burned_proportion_50m\", \"burned_proportion_100m\"],\n",
    "    [\"burned_proportion_10m\", \"burned_proportion_20m\", \"burned_proportion_50m\", \"burned_proportion_100m\", \"ndvi_min_dist_m_x\", \"ndvi_mean_dist_m_x\"],\n",
    "    [\"ndvi_min_dist_m_x\"],\n",
    "    [\"ndvi_mean_dist_m_x\"],\n",
    "    [\"ndvi_min_dist_m_x\", \"ndvi_mean_dist_m_x\"]\n",
    "]\n",
    "\n",
    "# Run all models\n",
    "metrics_list = []\n",
    "coef_list = []\n",
    "\n",
    "for fs in feature_sets:\n",
    "    metrics, coefs = train_logistic_model_with_summary(gdf, fs)\n",
    "    metrics_list.append(metrics)\n",
    "    coef_list.append(coefs)\n",
    "\n",
    "# Combine and display results\n",
    "metrics_df = pd.DataFrame(metrics_list)\n",
    "coef_df = pd.concat(coef_list, ignore_index=True)\n",
    "\n",
    "# Print the tables\n",
    "print(\"\\n=== Model Performance Summary ===\")\n",
    "print(tabulate(metrics_df, headers='keys', tablefmt='psql'))\n",
    "\n",
    "print(\"\\n=== Logistic Regression Coefficients ===\")\n",
    "print(tabulate(coef_df, headers='keys', tablefmt='psql'))"
    "print(tabulate(coef_df, headers='keys', tablefmt='psql'))"
   ]
  },
  {
   "cell_type": "markdown",
   "id": "d51409ee",
   "metadata": {},
   "source": [
    "| #  | Features                                                                                                                           | Accuracy | Precision_0 | Recall_0 | F1_0   | Precision_1 | Recall_1 | F1_1   |\n",
    "|----|------------------------------------------------------------------------------------------------------------------------------------|----------|-------------|----------|--------|--------------|----------|--------|\n",
    "| 0  | burned_proportion_10m                                                                                                              | 0.528243 | 0.290970    | 0.407972 | 0.3397 | 0.697967     | 0.579156 | 0.6330 |\n",
    "| 1  | burned_proportion_10m, burned_proportion_20m                                                                                       | 0.558926 | 0.304924    | 0.377491 | 0.3373 | 0.706954     | 0.635732 | 0.6695 |\n",
    "| 2  | burned_proportion_10m, burned_proportion_20m, burned_proportion_50m, burned_proportion_100m                                       | 0.531381 | 0.297275    | 0.422040 | 0.3488 | 0.702474     | 0.577667 | 0.6340 |\n",
    "| 3  | burned_proportion_10m, burned_proportion_20m, burned_proportion_50m, burned_proportion_100m, ndvi_min_dist_m_x, ndvi_mean_dist_m_x| 0.597906 | 0.354869    | 0.450119 | 0.3969 | 0.742348     | 0.659417 | 0.6984 |\n",
    "| 4  | ndvi_min_dist_m_x                                                                                                                  | 0.609773 | 0.344595    | 0.363420 | 0.3538 | 0.728882     | 0.712308 | 0.7205 |\n",
    "| 5  | ndvi_mean_dist_m_x                                                                                                                 | 0.604188 | 0.357143    | 0.433492 | 0.3916 | 0.741183     | 0.675235 | 0.7067 |\n",
    "| 6  | ndvi_min_dist_m_x, ndvi_mean_dist_m_x                                                                                              | 0.608377 | 0.361933    | 0.435867 | 0.3955 | 0.743382     | 0.680178 | 0.7104 |\n"
   ]
  }
 ],
 "metadata": {
  "kernelspec": {
   "display_name": "Python 3",
   "language": "python",
   "name": "python3"
  },
  "language_info": {
   "codemirror_mode": {
    "name": "ipython",
    "version": 3
   },
   "file_extension": ".py",
   "mimetype": "text/x-python",
   "name": "python",
   "nbconvert_exporter": "python",
   "pygments_lexer": "ipython3",
   "version": "3.10.6"
  }
 },
 "nbformat": 4,
 "nbformat_minor": 5
}
