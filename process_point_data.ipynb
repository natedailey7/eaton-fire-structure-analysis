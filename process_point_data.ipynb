{
 "cells": [
  {
   "cell_type": "markdown",
   "id": "24c485e7",
   "metadata": {},
   "source": [
    "# New concept\n",
    "\n",
    "2. Network Graph Model\n",
    "\n",
    "    Analyze:\n",
    "    - How burning \"propagated\" through the graph.\n",
    "    - How graph centrality, degree (number of neighbors), clustering coefficient relate to burn probability.\n",
    "    - Create animation for how spread occured between nodes"
   ]
  },
  {
   "cell_type": "code",
   "execution_count": 1,
   "id": "5d7a8b61",
   "metadata": {},
   "outputs": [],
   "source": [
    "import geopandas as gpd\n",
    "import numpy as np\n",
    "from sklearn.neighbors import BallTree\n",
    "from sklearn.linear_model import LogisticRegression\n",
    "from sklearn.model_selection import train_test_split\n",
    "from sklearn.metrics import classification_report\n",
    "import statsmodels.api as sm"
   ]
  },
  {
   "cell_type": "markdown",
   "id": "a097a841",
   "metadata": {},
   "source": [
    "# Prepare Dataset\n",
    "\n",
    "Add columns for `burned_proportion_20m`, `burned_proportion_50m`, `burned_proportion_100m`. "
   ]
  },
  {
   "cell_type": "code",
   "execution_count": 2,
   "id": "aff8489f",
   "metadata": {},
   "outputs": [],
   "source": [
    "def preprocess_structures(gpkg_path, layer_name):\n",
    "    # Load the structures layer\n",
    "    gdf = gpd.read_file(gpkg_path, layer=layer_name)\n",
    "\n",
    "    gdf.set_crs(epsg=3857, inplace=True)\n",
    "\n",
    "    # Reproject to meters if needed\n",
    "    if not gdf.crs.is_projected:\n",
    "        raise ValueError(\"CRS must be projected (meters). Please reproject your data first.\")\n",
    "\n",
    "    # Create a binary \"burned\" column: 1 = Destroyed, 0 = Otherwise\n",
    "    gdf['burned'] = gdf['DAMAGE'].apply(lambda x: 1 if str(x).lower() == 'destroyed (>50%)' else 0)\n",
    "    print(\"Unique values:\")\n",
    "    print(gdf['DAMAGE'].unique())\n",
    "    \n",
    "    return gdf\n",
    "\n",
    "def calculate_neighbor_stats(gdf, radii_meters=[20, 50, 100]):\n",
    "    coords = np.array(list(zip(gdf.geometry.x, gdf.geometry.y)))\n",
    "    tree = BallTree(coords, metric='euclidean')\n",
    "\n",
    "    for radius in radii_meters:\n",
    "        indices = tree.query_radius(coords, r=radius)\n",
    "        \n",
    "        total_neighbors = []\n",
    "        burned_neighbors = []\n",
    "        burned_proportion = []\n",
    "\n",
    "        burned_array = gdf['burned'].to_numpy()\n",
    "\n",
    "        for i, neighbors in enumerate(indices):\n",
    "            neighbors = neighbors[neighbors != i]  # exclude self\n",
    "            total = len(neighbors)\n",
    "            burned_count = burned_array[neighbors].sum() if total > 0 else 0\n",
    "\n",
    "            total_neighbors.append(total)\n",
    "            burned_neighbors.append(burned_count)\n",
    "            burned_proportion.append(burned_count / total if total > 0 else 0)\n",
    "\n",
    "        # Save to GeoDataFrame\n",
    "        gdf[f'total_neighbors_{radius}m'] = total_neighbors\n",
    "        gdf[f'burned_neighbors_{radius}m'] = burned_neighbors\n",
    "        gdf[f'burned_proportion_{radius}m'] = burned_proportion\n",
    "\n",
    "    return gdf"
   ]
  },
  {
   "cell_type": "code",
   "execution_count": 3,
   "id": "5104d65e",
   "metadata": {},
   "outputs": [
    {
     "name": "stdout",
     "output_type": "stream",
     "text": [
      "Unique values:\n",
      "['No Damage' 'Destroyed (>50%)' 'Affected (1-9%)' 'Minor (10-25%)'\n",
      " 'Inaccessible' 'Major (26-50%)']\n",
      "Saved enriched structures to data/structures_with_neighbors.gpkg\n"
     ]
    }
   ],
   "source": [
    "gpkg_file = \"data/structures.gpkg\"\n",
    "layer_name = \"postfire\"\n",
    "output_file = \"data/structures_with_neighbors.gpkg\"\n",
    "\n",
    "# Step 1: Load and preprocess\n",
    "gdf = preprocess_structures(gpkg_file, layer_name)\n",
    "\n",
    "# Step 2: Calculate neighbor stats\n",
    "gdf = calculate_neighbor_stats(gdf, radii_meters=[20, 50, 100])\n",
    "\n",
    "# Step 3: Save enriched data\n",
    "gdf.to_file(output_file, driver=\"GPKG\")\n",
    "print(f\"Saved enriched structures to {output_file}\")\n",
    "\n",
    "# Step 4: Train a simple logistic regression model\n",
    "feature_columns = [\n",
    "    'burned_proportion_20m',\n",
    "    'burned_proportion_50m',\n",
    "    'burned_proportion_100m'\n",
    "]"
   ]
  }
 ],
 "metadata": {
  "kernelspec": {
   "display_name": "Python 3",
   "language": "python",
   "name": "python3"
  },
  "language_info": {
   "codemirror_mode": {
    "name": "ipython",
    "version": 3
   },
   "file_extension": ".py",
   "mimetype": "text/x-python",
   "name": "python",
   "nbconvert_exporter": "python",
   "pygments_lexer": "ipython3",
   "version": "3.10.0"
  }
 },
 "nbformat": 4,
 "nbformat_minor": 5
}
