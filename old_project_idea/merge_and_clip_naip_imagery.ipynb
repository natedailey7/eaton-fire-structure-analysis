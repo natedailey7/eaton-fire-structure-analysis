{
 "cells": [
  {
   "cell_type": "code",
   "execution_count": 13,
   "id": "2614d771",
   "metadata": {},
   "outputs": [],
   "source": [
    "import rasterio\n",
    "from rasterio.merge import merge\n",
    "from rasterio.mask import mask\n",
    "import geopandas as gpd\n",
    "import os\n",
    "from tqdm import tqdm"
   ]
  },
  {
   "cell_type": "code",
   "execution_count": 14,
   "id": "243090f3",
   "metadata": {},
   "outputs": [],
   "source": [
    "def find_tif_files_recursive(root_dir):\n",
    "    tif_files = []\n",
    "    for dirpath, _, filenames in os.walk(root_dir):\n",
    "        for filename in filenames:\n",
    "            if filename.lower().endswith(\".tif\"):\n",
    "                full_path = os.path.join(dirpath, filename)\n",
    "                tif_files.append(full_path)\n",
    "    return tif_files"
   ]
  },
  {
   "cell_type": "code",
   "execution_count": 18,
   "id": "5fc84778",
   "metadata": {},
   "outputs": [],
   "source": [
    "def merge_and_clip_tifs(tif_paths, shapefile_path, output_path):\n",
    "    # Open all tif files with tqdm progress bar\n",
    "    print(\"Opening TIF files...\")\n",
    "    src_files_to_mosaic = [rasterio.open(fp) for fp in tqdm(tif_paths, desc=\"Reading TIFs\")]\n",
    "\n",
    "    # Merge into a single raster\n",
    "    print(\"Merging rasters...\")\n",
    "    mosaic, mosaic_transform = merge(src_files_to_mosaic)\n",
    "\n",
    "    # Copy metadata from one of the source files and update it for the mosaic\n",
    "    mosaic_meta = src_files_to_mosaic[0].meta.copy()\n",
    "    mosaic_meta.update({\n",
    "        \"driver\": \"GTiff\",\n",
    "        \"height\": mosaic.shape[1],\n",
    "        \"width\": mosaic.shape[2],\n",
    "        \"transform\": mosaic_transform,\n",
    "        \"count\": mosaic.shape[0]\n",
    "    })\n",
    "\n",
    "    # Load shapefile and get geometry\n",
    "    print(\"Reading shapefile...\")\n",
    "    shape = gpd.read_file(shapefile_path)\n",
    "    shape = shape.to_crs(src_files_to_mosaic[0].crs)  # Match CRS\n",
    "    geometry = shape.geometry.values\n",
    "\n",
    "    # Clip the mosaic\n",
    "    print(\"Clipping mosaic...\")\n",
    "    with rasterio.io.MemoryFile() as memfile:\n",
    "        with memfile.open(**mosaic_meta) as dataset:\n",
    "            dataset.write(mosaic)\n",
    "            clipped, clipped_transform = mask(dataset=dataset, shapes=geometry, crop=True)\n",
    "\n",
    "    # Update metadata for clipped output\n",
    "    clipped_meta = mosaic_meta.copy()\n",
    "    clipped_meta.update({\n",
    "        \"height\": clipped.shape[1],\n",
    "        \"width\": clipped.shape[2],\n",
    "        \"transform\": clipped_transform\n",
    "    })\n",
    "\n",
    "    # Write the clipped image to file\n",
    "    print(\"Writing output raster...\")\n",
    "    with rasterio.open(output_path, \"w\", **clipped_meta) as dest:\n",
    "        dest.write(clipped)\n",
    "\n",
    "    print(f\"Saved clipped raster to: {output_path}\")"
   ]
  },
  {
   "cell_type": "code",
   "execution_count": 26,
   "id": "6852df20",
   "metadata": {},
   "outputs": [],
   "source": [
    "def switch_backslashes_to_slashes(strings):\n",
    "    return [s.replace(\"\\\\\", \"/\") for s in strings]"
   ]
  },
  {
   "cell_type": "code",
   "execution_count": 34,
   "id": "bbd26448",
   "metadata": {},
   "outputs": [
    {
     "name": "stdout",
     "output_type": "stream",
     "text": [
      "File paths for merging:\n",
      "TIF 1: I:/terrain_generation_project/NAIP/m_3411855_ne_11_060_20220505/m_3411855_ne_11_060_20220505.tif\n",
      "TIF 2: I:/terrain_generation_project/NAIP/m_3411855_nw_11_060_20220505/m_3411855_nw_11_060_20220505.tif\n",
      "TIF 3: I:/terrain_generation_project/NAIP/m_3411855_se_11_060_20220511/m_3411855_se_11_060_20220511.tif\n",
      "TIF 4: I:/terrain_generation_project/NAIP/m_3411855_sw_11_060_20220511/m_3411855_sw_11_060_20220511.tif\n",
      "TIF 5: I:/terrain_generation_project/NAIP/m_3411856_ne_11_060_20220507/m_3411856_ne_11_060_20220507.tif\n",
      "TIF 6: I:/terrain_generation_project/NAIP/m_3411856_nw_11_060_20220505/m_3411856_nw_11_060_20220505.tif\n",
      "TIF 7: I:/terrain_generation_project/NAIP/m_3411856_se_11_060_20220512/m_3411856_se_11_060_20220512.tif\n",
      "TIF 8: I:/terrain_generation_project/NAIP/m_3411856_sw_11_060_20220512/m_3411856_sw_11_060_20220512.tif\n"
     ]
    }
   ],
   "source": [
    "tif_paths = switch_backslashes_to_slashes(find_tif_files_recursive(\"I:/terrain_generation_project/NAIP\"))\n",
    "\n",
    "print(\"File paths for merging:\")\n",
    "for i, file in enumerate(tif_paths):\n",
    "    print(f\"TIF {i+1}: {file}\")"
   ]
  },
  {
   "cell_type": "markdown",
   "id": "40b9b9e2",
   "metadata": {},
   "source": [
    "Due to the computational load of merging and clipping the tif files, we performed the operations one at a time, modifying the inputs as we went along. Note that the following cell was run iteratively, and the current state just represents the last iteration. "
   ]
  },
  {
   "cell_type": "code",
   "execution_count": 46,
   "id": "edb703c5",
   "metadata": {},
   "outputs": [],
   "source": [
    "# 3 + 4\n",
    "tif_list = [\n",
    "    \"I:/terrain_generation_project/NAIP_processed/naip_tiles_1_4.tif\",\n",
    "    \"I:/terrain_generation_project/NAIP_processed/naip_tiles_5_8.tif\"\n",
    "    ]\n",
    "\n",
    "clip_shapefile = \"I:/terrain_generation_project/tif_extent/tif_extent.shp\"\n",
    "output_tif = \"I:/terrain_generation_project/NAIP_processed/naip_tiles_1_8.tif\""
   ]
  },
  {
   "cell_type": "code",
   "execution_count": 47,
   "id": "d717c899",
   "metadata": {},
   "outputs": [
    {
     "name": "stdout",
     "output_type": "stream",
     "text": [
      "Opening TIF files...\n"
     ]
    },
    {
     "name": "stderr",
     "output_type": "stream",
     "text": [
      "Reading TIFs: 100%|██████████| 2/2 [00:00<00:00, 15.19it/s]"
     ]
    },
    {
     "name": "stdout",
     "output_type": "stream",
     "text": [
      "Merging rasters...\n"
     ]
    },
    {
     "name": "stderr",
     "output_type": "stream",
     "text": [
      "\n",
      "c:\\Users\\nated\\AppData\\Local\\Programs\\Python\\Python310\\lib\\site-packages\\rasterio\\merge.py:483: NodataShadowWarning: The dataset's nodata attribute is shadowing the alpha band. All masks will be determined by the nodata attribute\n",
      "  data = src.read(\n"
     ]
    },
    {
     "name": "stdout",
     "output_type": "stream",
     "text": [
      "Reading shapefile...\n",
      "Clipping mosaic...\n",
      "Writing output raster...\n",
      "Saved clipped raster to: I:/terrain_generation_project/NAIP_processed/naip_tiles_1_8.tif\n"
     ]
    }
   ],
   "source": [
    "merge_and_clip_tifs(tif_list, clip_shapefile, output_tif)"
   ]
  }
 ],
 "metadata": {
  "kernelspec": {
   "display_name": "Python 3",
   "language": "python",
   "name": "python3"
  },
  "language_info": {
   "codemirror_mode": {
    "name": "ipython",
    "version": 3
   },
   "file_extension": ".py",
   "mimetype": "text/x-python",
   "name": "python",
   "nbconvert_exporter": "python",
   "pygments_lexer": "ipython3",
   "version": "3.10.0"
  }
 },
 "nbformat": 4,
 "nbformat_minor": 5
}
