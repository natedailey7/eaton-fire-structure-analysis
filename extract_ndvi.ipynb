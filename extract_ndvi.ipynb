{
 "cells": [
  {
   "cell_type": "code",
   "execution_count": 1,
   "id": "ceb12967",
   "metadata": {},
   "outputs": [],
   "source": [
    "import rasterio\n",
    "import numpy as np\n",
    "from rasterio import plot\n",
    "from rasterio.enums import Resampling"
   ]
  },
  {
   "cell_type": "code",
   "execution_count": 2,
   "id": "a05fd006",
   "metadata": {},
   "outputs": [],
   "source": [
    "def calculate_ndvi(input_tif, output_tif):\n",
    "    # Open the 4-band input raster\n",
    "    with rasterio.open(input_tif) as src:\n",
    "        # Read Red (band 1), Green (2), Blue (3), and NIR (band 4)\n",
    "        red = src.read(1).astype('float32')\n",
    "        nir = src.read(4).astype('float32')\n",
    "        \n",
    "        # Calculate NDVI: (NIR - Red) / (NIR + Red)\n",
    "        ndvi = (nir - red) / (nir + red)\n",
    "        \n",
    "        # Handle division by zero (optional)\n",
    "        ndvi = np.where((nir + red) == 0, 0, ndvi)\n",
    "\n",
    "        # Copy metadata and update for single band output\n",
    "        profile = src.profile\n",
    "        profile.update(\n",
    "            dtype=rasterio.float32,\n",
    "            count=1,\n",
    "            compress='lzw'\n",
    "        )\n",
    "        \n",
    "        # Write the NDVI output\n",
    "        with rasterio.open(output_tif, 'w', **profile) as dst:\n",
    "            dst.write(ndvi, 1)\n",
    "            \n",
    "    print(f\"NDVI raster written to {output_tif}\")"
   ]
  },
  {
   "cell_type": "code",
   "execution_count": 4,
   "id": "6d91d1a8",
   "metadata": {},
   "outputs": [
    {
     "name": "stderr",
     "output_type": "stream",
     "text": [
      "C:\\Users\\nated\\AppData\\Local\\Temp\\ipykernel_36884\\1248848153.py:9: RuntimeWarning: invalid value encountered in divide\n",
      "  ndvi = (nir - red) / (nir + red)\n"
     ]
    },
    {
     "name": "stdout",
     "output_type": "stream",
     "text": [
      "NDVI raster written to D:/terrain_generation_project/NAIP_processed/naip_tiles_1_8_redo_3_ndvi.tif\n"
     ]
    }
   ],
   "source": [
    "input_path = \"D:/terrain_generation_project/NAIP_processed/naip_tiles_1_8_redo_3.tif\"\n",
    "output_path = \"D:/terrain_generation_project/NAIP_processed/naip_tiles_1_8_redo_3_ndvi.tif\"\n",
    "calculate_ndvi(input_path, output_path)"
   ]
  }
 ],
 "metadata": {
  "kernelspec": {
   "display_name": "Python 3",
   "language": "python",
   "name": "python3"
  },
  "language_info": {
   "codemirror_mode": {
    "name": "ipython",
    "version": 3
   },
   "file_extension": ".py",
   "mimetype": "text/x-python",
   "name": "python",
   "nbconvert_exporter": "python",
   "pygments_lexer": "ipython3",
   "version": "3.10.0"
  }
 },
 "nbformat": 4,
 "nbformat_minor": 5
}
