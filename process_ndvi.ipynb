{
 "cells": [
  {
   "cell_type": "code",
   "execution_count": null,
   "id": "2614d771",
   "metadata": {},
   "outputs": [],
   "source": [
    "import rasterio\n",
    "from rasterio.merge import merge\n",
    "from rasterio.mask import mask\n",
    "import geopandas as gpd\n",
    "import os\n",
    "from tqdm import tqdm"
   ]
  },
  {
   "cell_type": "code",
   "execution_count": 16,
   "id": "243090f3",
   "metadata": {},
   "outputs": [],
   "source": [
    "def find_jp2_files_recursive(root_dir):\n",
    "    jp2_files = []\n",
    "    for dirpath, _, filenames in os.walk(root_dir):\n",
    "        for filename in filenames:\n",
    "            if filename.lower().endswith(\".tif\"):\n",
    "                full_path = os.path.join(dirpath, filename)\n",
    "                jp2_files.append(full_path)\n",
    "    return jp2_files"
   ]
  },
  {
   "cell_type": "code",
   "execution_count": 17,
   "id": "5fc84778",
   "metadata": {},
   "outputs": [],
   "source": [
    "def merge_and_clip_jp2s(jp2_paths, shapefile_path, output_path):\n",
    "    # Open all jp2 files with tqdm progress bar\n",
    "    print(\"Opening JP2 files...\")\n",
    "    src_files_to_mosaic = [rasterio.open(fp) for fp in tqdm(jp2_paths, desc=\"Reading JP2s\")]\n",
    "\n",
    "    # Merge into a single raster\n",
    "    print(\"Merging rasters...\")\n",
    "    mosaic, mosaic_transform = merge(src_files_to_mosaic)\n",
    "\n",
    "    # Copy metadata from one of the source files and update it for the mosaic\n",
    "    mosaic_meta = src_files_to_mosaic[0].meta.copy()\n",
    "    mosaic_meta.update({\n",
    "        \"driver\": \"GTiff\",\n",
    "        \"height\": mosaic.shape[1],\n",
    "        \"width\": mosaic.shape[2],\n",
    "        \"transform\": mosaic_transform,\n",
    "        \"count\": mosaic.shape[0]\n",
    "    })\n",
    "\n",
    "    # Load shapefile and get geometry\n",
    "    print(\"Reading shapefile...\")\n",
    "    shape = gpd.read_file(shapefile_path)\n",
    "    shape = shape.to_crs(src_files_to_mosaic[0].crs)  # Match CRS\n",
    "    geometry = shape.geometry.values\n",
    "\n",
    "    # Clip the mosaic\n",
    "    print(\"Clipping mosaic...\")\n",
    "    with rasterio.io.MemoryFile() as memfile:\n",
    "        with memfile.open(**mosaic_meta) as dataset:\n",
    "            dataset.write(mosaic)\n",
    "            clipped, clipped_transform = mask(dataset=dataset, shapes=geometry, crop=True)\n",
    "\n",
    "    # Update metadata for clipped output\n",
    "    clipped_meta = mosaic_meta.copy()\n",
    "    clipped_meta.update({\n",
    "        \"height\": clipped.shape[1],\n",
    "        \"width\": clipped.shape[2],\n",
    "        \"transform\": clipped_transform\n",
    "    })\n",
    "\n",
    "    # Write the clipped image to file\n",
    "    print(\"Writing output raster...\")\n",
    "    with rasterio.open(output_path, \"w\", **clipped_meta) as dest:\n",
    "        dest.write(clipped)\n",
    "\n",
    "    print(f\"Saved clipped raster to: {output_path}\")"
   ]
  },
  {
   "cell_type": "code",
   "execution_count": 18,
   "id": "edb703c5",
   "metadata": {},
   "outputs": [],
   "source": [
    "jp2_list = find_jp2_files_recursive(\"D:/terrain_generation_project/NAIP/\")\n",
    "clip_shapefile = \"D:/terrain_generation_project/tif_extent/tif_extent.shp\"\n",
    "output_tif = \"D:/terrain_generation_project/NAIP_processed/naip_study_area.tif\""
   ]
  },
  {
   "cell_type": "code",
   "execution_count": 19,
   "id": "2c9bc0fe",
   "metadata": {},
   "outputs": [
    {
     "name": "stdout",
     "output_type": "stream",
     "text": [
      "['D:/terrain_generation_project/NAIP/m_3411855_ne_11_060_20220505\\\\m_3411855_ne_11_060_20220505.tif', 'D:/terrain_generation_project/NAIP/m_3411855_nw_11_060_20220505\\\\m_3411855_nw_11_060_20220505.tif', 'D:/terrain_generation_project/NAIP/m_3411855_se_11_060_20220511\\\\m_3411855_se_11_060_20220511.tif', 'D:/terrain_generation_project/NAIP/m_3411855_sw_11_060_20220511\\\\m_3411855_sw_11_060_20220511.tif', 'D:/terrain_generation_project/NAIP/m_3411856_ne_11_060_20220507\\\\m_3411856_ne_11_060_20220507.tif', 'D:/terrain_generation_project/NAIP/m_3411856_nw_11_060_20220505\\\\m_3411856_nw_11_060_20220505.tif', 'D:/terrain_generation_project/NAIP/m_3411856_se_11_060_20220512\\\\m_3411856_se_11_060_20220512.tif', 'D:/terrain_generation_project/NAIP/m_3411856_sw_11_060_20220512\\\\m_3411856_sw_11_060_20220512.tif']\n"
     ]
    }
   ],
   "source": [
    "print(jp2_list)"
   ]
  },
  {
   "cell_type": "code",
   "execution_count": 20,
   "id": "d717c899",
   "metadata": {},
   "outputs": [
    {
     "name": "stdout",
     "output_type": "stream",
     "text": [
      "Opening JP2 files...\n"
     ]
    },
    {
     "ename": "TypeError",
     "evalue": "'module' object is not callable",
     "output_type": "error",
     "traceback": [
      "\u001b[1;31m---------------------------------------------------------------------------\u001b[0m",
      "\u001b[1;31mTypeError\u001b[0m                                 Traceback (most recent call last)",
      "Cell \u001b[1;32mIn[20], line 1\u001b[0m\n\u001b[1;32m----> 1\u001b[0m \u001b[43mmerge_and_clip_jp2s\u001b[49m\u001b[43m(\u001b[49m\u001b[43mjp2_list\u001b[49m\u001b[43m,\u001b[49m\u001b[43m \u001b[49m\u001b[43mclip_shapefile\u001b[49m\u001b[43m,\u001b[49m\u001b[43m \u001b[49m\u001b[43moutput_tif\u001b[49m\u001b[43m)\u001b[49m\n",
      "Cell \u001b[1;32mIn[17], line 4\u001b[0m, in \u001b[0;36mmerge_and_clip_jp2s\u001b[1;34m(jp2_paths, shapefile_path, output_path)\u001b[0m\n\u001b[0;32m      1\u001b[0m \u001b[38;5;28;01mdef\u001b[39;00m \u001b[38;5;21mmerge_and_clip_jp2s\u001b[39m(jp2_paths, shapefile_path, output_path):\n\u001b[0;32m      2\u001b[0m     \u001b[38;5;66;03m# Open all jp2 files with tqdm progress bar\u001b[39;00m\n\u001b[0;32m      3\u001b[0m     \u001b[38;5;28mprint\u001b[39m(\u001b[38;5;124m\"\u001b[39m\u001b[38;5;124mOpening JP2 files...\u001b[39m\u001b[38;5;124m\"\u001b[39m)\n\u001b[1;32m----> 4\u001b[0m     src_files_to_mosaic \u001b[38;5;241m=\u001b[39m [rasterio\u001b[38;5;241m.\u001b[39mopen(fp) \u001b[38;5;28;01mfor\u001b[39;00m fp \u001b[38;5;129;01min\u001b[39;00m \u001b[43mtqdm\u001b[49m\u001b[43m(\u001b[49m\u001b[43mjp2_paths\u001b[49m\u001b[43m,\u001b[49m\u001b[43m \u001b[49m\u001b[43mdesc\u001b[49m\u001b[38;5;241;43m=\u001b[39;49m\u001b[38;5;124;43m\"\u001b[39;49m\u001b[38;5;124;43mReading JP2s\u001b[39;49m\u001b[38;5;124;43m\"\u001b[39;49m\u001b[43m)\u001b[49m]\n\u001b[0;32m      6\u001b[0m     \u001b[38;5;66;03m# Merge into a single raster\u001b[39;00m\n\u001b[0;32m      7\u001b[0m     \u001b[38;5;28mprint\u001b[39m(\u001b[38;5;124m\"\u001b[39m\u001b[38;5;124mMerging rasters...\u001b[39m\u001b[38;5;124m\"\u001b[39m)\n",
      "\u001b[1;31mTypeError\u001b[0m: 'module' object is not callable"
     ]
    }
   ],
   "source": [
    "merge_and_clip_jp2s(jp2_list, clip_shapefile, output_tif)"
   ]
  }
 ],
 "metadata": {
  "kernelspec": {
   "display_name": "Python 3",
   "language": "python",
   "name": "python3"
  },
  "language_info": {
   "codemirror_mode": {
    "name": "ipython",
    "version": 3
   },
   "file_extension": ".py",
   "mimetype": "text/x-python",
   "name": "python",
   "nbconvert_exporter": "python",
   "pygments_lexer": "ipython3",
   "version": "3.10.6"
  }
 },
 "nbformat": 4,
 "nbformat_minor": 5
}
